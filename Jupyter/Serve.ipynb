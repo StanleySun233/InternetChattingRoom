{
 "cells": [
  {
   "cell_type": "code",
   "execution_count": null,
   "metadata": {},
   "outputs": [],
   "source": [
    "import socket\n",
    "import threading\n",
    "import queue\n",
    "import json\n",
    "import os\n",
    "import os.path\n",
    "import sys"
   ]
  },
  {
   "cell_type": "code",
   "execution_count": null,
   "metadata": {},
   "outputs": [],
   "source": [
    "IP = input()\n",
    "PORT = input()# 端口"
   ]
  },
  {
   "cell_type": "code",
   "execution_count": null,
   "metadata": {},
   "outputs": [],
   "source": [
    "messages = queue.Queue()\n",
    "users = []\n",
    "lock = threading.Lock()"
   ]
  },
  {
   "cell_type": "code",
   "execution_count": null,
   "metadata": {},
   "outputs": [],
   "source": [
    "def onlines():  # 统计当前在线人员\n",
    "    online = []\n",
    "    for i in range(len(users)):\n",
    "        online.append(users[i][0])\n",
    "    return online"
   ]
  },
  {
   "cell_type": "code",
   "execution_count": null,
   "metadata": {},
   "outputs": [],
   "source": [
    "class ChatServer(threading.Thread):\n",
    "    global users, que, lock\n",
    "\n",
    "    def __init__(self):  # 构造函数\n",
    "        threading.Thread.__init__(self)\n",
    "        self.s = socket.socket(socket.AF_INET, socket.SOCK_STREAM)\n",
    "        os.chdir(sys.path[0])\n",
    "\n",
    "    # 接受来自客户端的用户名，如果用户名为空，使用用户的IP与端口作为用户名。如果用户名出现重复，则在出现的用户名依此加上后缀“2”、“3”、“4”……\n",
    "    def receive(self, Connection, Address):  # 接收消息\n",
    "\n",
    "        user = Connection.recv(1024)  # 用户名称\n",
    "        user = user.decode()\n",
    "        if user == '用户名不存在':\n",
    "            user = Address[0] + ':' + str(Address[1])\n",
    "        Index = 1\n",
    "\n",
    "        for i in range(len(users)):  # 检验重名，则在重名用户后加数字\n",
    "            if users[i][0] == user:\n",
    "                Index = Index + 1\n",
    "                user = user + str(Index)\n",
    "        users.append((user, Connection))\n",
    "        USERS = onlines()\n",
    "        self.AddToMessage(USERS, Address)\n",
    "        # 在获取用户名后便会不断地接受用户端发来的消息（即聊天内容），结束后关闭连接。\n",
    "        try:\n",
    "            while True:\n",
    "                message = Connection.recv(1024)  # 发送消息\n",
    "                message = message.decode()\n",
    "                message = user + ':' + message\n",
    "                self.AddToMessage(message, Address)\n",
    "            Connection.close()  # 当使用者退出或者断线时，删除该用户。\n",
    "        except:\n",
    "            j = 0  # 用户断开连接\n",
    "            for man in users:\n",
    "                if man[0] == user:\n",
    "                    users.pop(j)  # 服务器段删除退出的用户\n",
    "                    break\n",
    "                j = j + 1\n",
    "\n",
    "            USERS = onlines()\n",
    "            self.AddToMessage(USERS, Address)\n",
    "            Connection.close()\n",
    "\n",
    "    # 将地址与数据（需发送给客户端）存入messages队列。\n",
    "    def AddToMessage(self, Text, Address):\n",
    "        lock.acquire()\n",
    "        try:\n",
    "            messages.put((Address, Text))\n",
    "        finally:\n",
    "            lock.release()\n",
    "\n",
    "    # 服务端在接受到数据后，会对其进行一些处理然后发送给客户端，如下图，对于聊天内容，服务端直接发送给客户端，而对于用户列表，便由json.dumps处理后发送。\n",
    "    def SendTextToOthers(self):  # 发送数据\n",
    "        while True:\n",
    "            if not messages.empty():\n",
    "                message = messages.get()\n",
    "                if isinstance(message[1], str):\n",
    "                    for i in range(len(users)):\n",
    "                        data = ' ' + message[1]\n",
    "                        users[i][1].send(data.encode())\n",
    "                        print(data)\n",
    "                        print('\\n')\n",
    "\n",
    "                if isinstance(message[1], list):\n",
    "                    data = json.dumps(message[1])\n",
    "                    for i in range(len(users)):\n",
    "                        try:\n",
    "                            users[i][1].send(data.encode())\n",
    "                        except:\n",
    "                            pass\n",
    "\n",
    "    def run(self):  # 重载run函数\n",
    "        self.s.bind((IP, PORT))\n",
    "        self.s.listen(5)\n",
    "        q = threading.Thread(target=self.SendTextToOthers)\n",
    "        q.start()\n",
    "        while True:\n",
    "            Connect, Address = self.s.accept()\n",
    "            t = threading.Thread(target=self.receive, args=(Connect, Address))\n",
    "            t.start()"
   ]
  },
  {
   "cell_type": "code",
   "execution_count": null,
   "metadata": {},
   "outputs": [],
   "source": [
    "Serve = ChatServer()\n",
    "Serve.start()"
   ]
  }
 ],
 "metadata": {
  "kernelspec": {
   "display_name": "Python [conda env:TC2]",
   "language": "python",
   "name": "conda-env-TC2-py"
  },
  "language_info": {
   "codemirror_mode": {
    "name": "ipython",
    "version": 3
   },
   "file_extension": ".py",
   "mimetype": "text/x-python",
   "name": "python",
   "nbconvert_exporter": "python",
   "pygments_lexer": "ipython3",
   "version": "3.7.10"
  }
 },
 "nbformat": 4,
 "nbformat_minor": 4
}

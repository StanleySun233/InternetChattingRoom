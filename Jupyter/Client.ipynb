{
 "cells": [
  {
   "cell_type": "code",
   "execution_count": null,
   "metadata": {},
   "outputs": [],
   "source": [
    "import os\n",
    "import socket\n",
    "import tkinter\n",
    "import tkinter.messagebox\n",
    "import threading\n",
    "import json\n",
    "import tkinter.filedialog\n",
    "from tkinter.scrolledtext import ScrolledText\n",
    "import neo as NeoFun\n",
    "import cv2\n",
    "import ftplib"
   ]
  },
  {
   "cell_type": "code",
   "execution_count": null,
   "metadata": {},
   "outputs": [],
   "source": [
    "IP = input()\n",
    "PORT = input()\n",
    "# 输入在Serve.py设置的ip地址和端口"
   ]
  },
  {
   "cell_type": "code",
   "execution_count": null,
   "metadata": {},
   "outputs": [],
   "source": [
    "user = ''\n",
    "OnlineBox = ''  # 用于显示在线用户的列表框\n",
    "show = 1  # 用于判断是开还是关闭列表框\n",
    "users = []  # 在线用户列表\n",
    "chat = '------Group chat-------'  # 聊天对象\n",
    "\n",
    "graph = NeoFun.ConnectNeo4j()\n",
    "# neo4j数据库"
   ]
  },
  {
   "cell_type": "code",
   "execution_count": null,
   "metadata": {},
   "outputs": [],
   "source": [
    "# 登陆窗口\n",
    "LoginUI = tkinter.Tk()\n",
    "LoginUI.geometry(\"400x250\")\n",
    "LoginUI.title('用户登陆窗口')\n",
    "LoginUI.resizable(0, 0)\n",
    "Label_One = tkinter.Label(LoginUI, width=400, height=250, bg=\"LightBlue\")\n",
    "Label_One.pack()\n",
    "\n",
    "Account = tkinter.StringVar()\n",
    "Account.set('')\n",
    "Password = tkinter.StringVar()\n",
    "Password.set('')\n",
    "\n",
    "pic = tkinter.Label(LoginUI, text='', bg=\"LightBlue\")\n",
    "pic.place(x=200, y=5, width=100, height=40)\n",
    "\n",
    "UserAccount = tkinter.Label(LoginUI, text='用户名：', bg=\"LightBlue\")\n",
    "UserAccount.place(x=50, y=20, width=100, height=40)\n",
    "UserAccountLabel = tkinter.Entry(LoginUI, width=60, textvariable=Account)\n",
    "UserAccountLabel.place(x=150, y=25, width=100, height=30)\n",
    "\n",
    "UserPassword = tkinter.Label(LoginUI, text='密码：', bg=\"LightBlue\")\n",
    "UserPassword.place(x=50, y=70, width=100, height=40)\n",
    "UserPasswordLabel = tkinter.Entry(LoginUI, width=60, textvariable=Password)\n",
    "UserPasswordLabel.place(x=150, y=75, width=100, height=30)"
   ]
  },
  {
   "cell_type": "code",
   "execution_count": null,
   "metadata": {},
   "outputs": [],
   "source": [
    "# 登录函数\n",
    "def Login(*args):\n",
    "    Account0 = UserAccountLabel.get()\n",
    "    Password0 = UserPasswordLabel.get()\n",
    "    print(Account0, Password0)\n",
    "    if not Account0:\n",
    "        tkinter.messagebox.showwarning('warning', message='用户名为空!')\n",
    "    elif not Password0:\n",
    "        tkinter.messagebox.showwarning('warning', message='密码为空!')\n",
    "    else:\n",
    "        if not NeoFun.isAccountExist(graph, Account0):\n",
    "            tkinter.messagebox.showwarning('warning', message='用户名不存在')\n",
    "        elif NeoFun.isCoupleAccountPassword(graph, Account0, Password0):\n",
    "            global UA\n",
    "            UA = Account0\n",
    "            tkinter.messagebox.showwarning('warning', message='登陆成功')\n",
    "            LoginUI.destroy()\n",
    "        else:\n",
    "            tkinter.messagebox.showwarning('warning', message='用户名或密码不匹配')"
   ]
  },
  {
   "cell_type": "code",
   "execution_count": null,
   "metadata": {},
   "outputs": [],
   "source": [
    "# 注册函数\n",
    "def Register(*args):\n",
    "    Account0 = UserAccountLabel.get()\n",
    "    Password0 = UserPasswordLabel.get()\n",
    "    if not Account0:\n",
    "        tkinter.messagebox.showwarning('warning', message='用户名为空!')\n",
    "    elif not Password0:\n",
    "        tkinter.messagebox.showwarning('warning', message='密码为空!')\n",
    "    else:\n",
    "        if NeoFun.isAccountExist(graph, Account0):\n",
    "            tkinter.messagebox.showwarning('warning', message='用户名已存在')\n",
    "        else:\n",
    "            NeoFun.RegisterNeo4j(graph, Account0, Password0)\n",
    "            tkinter.messagebox.showwarning('warning', message='账号注册成功')"
   ]
  },
  {
   "cell_type": "code",
   "execution_count": null,
   "metadata": {},
   "outputs": [],
   "source": [
    "# 放置登录和注册按钮\n",
    "LoginButton = tkinter.Button(LoginUI, text=\"登录\", command=Login, bg=\"Yellow\")\n",
    "LoginButton.place(x=120, y=150, width=40, height=25)\n",
    "LoginUI.bind('<Return>', Login)\n",
    "\n",
    "RegisterButton = tkinter.Button(LoginUI, text=\"注册\", command=Register, bg=\"Yellow\")\n",
    "RegisterButton.place(x=240, y=150, width=40, height=25)\n",
    "\n",
    "LoginUI.mainloop()"
   ]
  },
  {
   "cell_type": "code",
   "execution_count": null,
   "metadata": {},
   "outputs": [],
   "source": [
    "# 建立连接\n",
    "s = socket.socket(socket.AF_INET, socket.SOCK_STREAM)\n",
    "s.connect((IP, int(PORT)))\n",
    "if UA:\n",
    "    s.send(UA.encode())  # 发送用户名\n",
    "else:\n",
    "    s.send('用户名不存在'.encode())\n",
    "    UA = IP + ':' + PORT"
   ]
  },
  {
   "cell_type": "code",
   "execution_count": null,
   "metadata": {},
   "outputs": [],
   "source": [
    "# 聊天窗口\n",
    "MainBoxUI = tkinter.Tk()\n",
    "MainBoxUI.geometry(\"800x480\")  # 640*480\n",
    "MainBoxUI.title('网络聊天室')\n",
    "MainBoxUI.resizable(False, False)"
   ]
  },
  {
   "cell_type": "code",
   "execution_count": null,
   "metadata": {},
   "outputs": [],
   "source": [
    "# 消息界面\n",
    "MessageBox = ScrolledText(MainBoxUI)\n",
    "MessageBox.place(x=5, y=0, width=640, height=320)\n",
    "MessageBox.tag_config('tag1', foreground='red', backgroun=\"yellow\")\n",
    "MessageBox.insert(tkinter.END, '欢迎来到网络聊天室，请注意网络文明噢', 'tag1')"
   ]
  },
  {
   "cell_type": "code",
   "execution_count": null,
   "metadata": {},
   "outputs": [],
   "source": [
    "# 输入框\n",
    "InputText = tkinter.StringVar()\n",
    "InputText.set('')\n",
    "InputTextLabel = tkinter.Entry(MainBoxUI, width=120, textvariable=InputText)\n",
    "InputTextLabel.place(x=5, y=320, width=580, height=170)"
   ]
  },
  {
   "cell_type": "code",
   "execution_count": null,
   "metadata": {},
   "outputs": [],
   "source": [
    "# 在线用户列表\n",
    "OnlineBox = tkinter.Listbox(MainBoxUI)\n",
    "OnlineBox.place(x=510, y=0, width=130, height=320)"
   ]
  },
  {
   "cell_type": "code",
   "execution_count": null,
   "metadata": {},
   "outputs": [],
   "source": [
    "# 工具箱列表\n",
    "ToolMessage = tkinter.Listbox(MainBoxUI)\n",
    "ToolMessage.place(x=640, y=0, width=140, height=480)"
   ]
  },
  {
   "cell_type": "code",
   "execution_count": null,
   "metadata": {},
   "outputs": [],
   "source": [
    "# 发送图片函数\n",
    "def SendImg(*args):\n",
    "    FilePath = tkinter.filedialog.askopenfilename()\n",
    "    file = open(FilePath, 'rb')\n",
    "    ftp = ftplib.FTP()\n",
    "    ftp.set_debuglevel(2)\n",
    "    ftp.set_pasv(0)\n",
    "    ftp.connect('47.100.93.63', 21)\n",
    "    ftp.login('user', '12345')\n",
    "    ftp.delete('test.jpg')\n",
    "    ftp.storbinary('STOR test.jpg', file, 1024)\n",
    "    ftp.close()\n",
    "    message = \"图片发送成功\" + '~' + user + '~' + chat\n",
    "    pic = cv2.imread(FilePath)\n",
    "    s.send(message.encode())"
   ]
  },
  {
   "cell_type": "code",
   "execution_count": null,
   "metadata": {},
   "outputs": [],
   "source": [
    "# 发送视频函数\n",
    "def SendVid(*args):\n",
    "    FilePath = tkinter.filedialog.askopenfilename()\n",
    "    file = open(FilePath, 'rb')\n",
    "    ftp = ftplib.FTP()\n",
    "    ftp.set_debuglevel(2)\n",
    "    ftp.set_pasv(0)\n",
    "    ftp.connect('47.100.93.63', 21)\n",
    "    ftp.login('user', '12345')\n",
    "    ftp.delete('test.mp4')\n",
    "    ftp.storbinary('STOR test.mp4', file, 1024)\n",
    "    ftp.close()\n",
    "    message = \"视频发送成功\" + '~' + user + '~' + chat\n",
    "    pic = cv2.imread(FilePath)\n",
    "    s.send(message.encode())"
   ]
  },
  {
   "cell_type": "code",
   "execution_count": null,
   "metadata": {},
   "outputs": [],
   "source": [
    "# 发送文件函数\n",
    "def SendFile(*args):\n",
    "    FilePath = tkinter.filedialog.askopenfilename()\n",
    "    file = open(FilePath, 'rb')\n",
    "    ftp = ftplib.FTP()\n",
    "    ftp.set_debuglevel(2)\n",
    "    ftp.set_pasv(0)\n",
    "    ftp.connect('47.100.93.63', 21)\n",
    "    ftp.login('user', '12345')\n",
    "    ftp.storbinary('STOR test', file, 1024)\n",
    "    ftp.close()\n",
    "    message = \"文件发送成功\" + '~' + user + '~' + chat\n",
    "    pic = cv2.imread(FilePath)\n",
    "    s.send(message.encode())"
   ]
  },
  {
   "cell_type": "code",
   "execution_count": null,
   "metadata": {},
   "outputs": [],
   "source": [
    "# 发送图片、视频、文件的按钮。\n",
    "Picture = tkinter.Button(MainBoxUI, text=\"发送图片\", command=SendImg, bg=\"gray\")\n",
    "Picture.place(x=640, y=0, width=160, height=40)\n",
    "\n",
    "Picture = tkinter.Button(MainBoxUI, text=\"发送视频\", command=SendVid, bg=\"gray\")\n",
    "Picture.place(x=640, y=40, width=160, height=40)\n",
    "\n",
    "Picture = tkinter.Button(MainBoxUI, text=\"发送文件\", command=SendFile, bg=\"gray\")\n",
    "Picture.place(x=640, y=80, width=160, height=40)"
   ]
  },
  {
   "cell_type": "code",
   "execution_count": null,
   "metadata": {},
   "outputs": [],
   "source": [
    "# 发送文本函数。\n",
    "def send(*args):\n",
    "    message = InputTextLabel.get() + '~' + user + '~' + chat\n",
    "    NeoFun.CreateNode(graph, 'message', {\"name\": InputTextLabel.get(), \"sender\": user})\n",
    "    NeoFun.CreateRelationship(graph, 'user', {\"name\": user}, 'message', {\"name\": InputTextLabel.get(), \"sender\": user},\n",
    "                              'say')\n",
    "    s.send(message.encode())\n",
    "    InputText.set('')"
   ]
  },
  {
   "cell_type": "code",
   "execution_count": null,
   "metadata": {},
   "outputs": [],
   "source": [
    "# 发送文本功能。\n",
    "sendButton = tkinter.Button(MainBoxUI, text=\"\\n发\\n\\n\\n送\", anchor='n', command=send, font=('Helvetica', 18), bg='white')\n",
    "sendButton.place(x=585, y=320, width=55, height=300)\n",
    "MainBoxUI.bind('<Return>', send)"
   ]
  },
  {
   "cell_type": "code",
   "execution_count": null,
   "metadata": {},
   "outputs": [],
   "source": [
    "# 接收信息函数，包括接收信息、图片、视频。\n",
    "def receive():\n",
    "    global uses\n",
    "    while True:\n",
    "        data = s.recv(1024)\n",
    "        data = data.decode()\n",
    "        try:\n",
    "            uses = json.loads(data)\n",
    "            OnlineBox.delete(0, tkinter.END)\n",
    "            OnlineBox.insert(tkinter.END, \"当前在线用户\")\n",
    "            OnlineBox.insert(tkinter.END, \"------Group chat-------\")\n",
    "            for x in range(len(uses)):\n",
    "                OnlineBox.insert(tkinter.END, uses[x])\n",
    "            users.append('------Group chat-------')\n",
    "        except:\n",
    "            data = data.split('~')\n",
    "            message = data[0]\n",
    "            userName = data[1]\n",
    "            chatwith = data[2]\n",
    "            if \"图片发送成功\" in message:\n",
    "                ftp = ftplib.FTP()\n",
    "                ftp.set_pasv(0)\n",
    "                ftp.connect('47.100.93.63', 21)\n",
    "                ftp.login('user', '12345')\n",
    "                filename = 'pic.jpg'\n",
    "                os.remove(filename)\n",
    "                ftp.retrbinary(\"RETR test.jpg\", open(filename, \"ab\").write, 1024)\n",
    "                pic = cv2.imread(filename)\n",
    "                cv2.imshow('picture', pic)\n",
    "                cv2.waitKey(0)\n",
    "            elif \"视频发送成功\" in message:\n",
    "                ftp = ftplib.FTP()\n",
    "                ftp.set_pasv(0)\n",
    "                ftp.connect('47.100.93.63', 21)\n",
    "                ftp.login('user', '12345')\n",
    "                filename = 'vid.mp4'\n",
    "                # os.remove(filename)\n",
    "                ftp.retrbinary(\"RETR test.mp4\", open(filename, \"ab\").write, 1024)\n",
    "                cap = cv2.VideoCapture(filename)\n",
    "                while cap.isOpened():\n",
    "                    ret, frame = cap.read()\n",
    "                    cv2.imshow('frame', frame)\n",
    "                    if cv2.waitKey(25) & 0xFF == ord('q'):\n",
    "                        break\n",
    "                cap.release()\n",
    "                cv2.destroyAllWindows()\n",
    "            elif \"文件发送成功\" in message:\n",
    "                ftp = ftplib.FTP()\n",
    "                ftp.set_pasv(0)\n",
    "                ftp.connect('47.100.93.63', 21)\n",
    "                ftp.login('user', '12345')\n",
    "                filename = 'file'\n",
    "                ftp.retrbinary(\"RETR test\", open(filename, \"ab\").write, 1024)\n",
    "            message = '\\n' + message\n",
    "            if chatwith == '------Group chat-------':  # 群聊\n",
    "                MessageBox.insert(tkinter.END, message)\n",
    "            elif userName == user or chatwith == user:  # 私聊\n",
    "                MessageBox.tag_config('tag2', foreground='red')\n",
    "                MessageBox.insert(tkinter.END, message, 'tag2')\n",
    "            MessageBox.see(tkinter.END)"
   ]
  },
  {
   "cell_type": "code",
   "execution_count": null,
   "metadata": {},
   "outputs": [],
   "source": [
    "# 接收消息队列\n",
    "r = threading.Thread(target=receive)\n",
    "r.start()"
   ]
  },
  {
   "cell_type": "code",
   "execution_count": null,
   "metadata": {},
   "outputs": [],
   "source": [
    "# 运行主程序\n",
    "MainBoxUI.mainloop()\n",
    "s.close()"
   ]
  }
 ],
 "metadata": {
  "kernelspec": {
   "display_name": "Python [conda env:TC2]",
   "language": "python",
   "name": "conda-env-TC2-py"
  },
  "language_info": {
   "codemirror_mode": {
    "name": "ipython",
    "version": 3
   },
   "file_extension": ".py",
   "mimetype": "text/x-python",
   "name": "python",
   "nbconvert_exporter": "python",
   "pygments_lexer": "ipython3",
   "version": "3.7.10"
  }
 },
 "nbformat": 4,
 "nbformat_minor": 4
}
